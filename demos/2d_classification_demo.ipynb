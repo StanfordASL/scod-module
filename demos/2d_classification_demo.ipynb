{
 "cells": [
  {
   "cell_type": "code",
   "execution_count": 50,
   "metadata": {},
   "outputs": [
    {
     "name": "stdout",
     "output_type": "stream",
     "text": [
      "The autoreload extension is already loaded. To reload it, use:\n",
      "  %reload_ext autoreload\n"
     ]
    }
   ],
   "source": [
    "%load_ext autoreload\n",
    "%autoreload 2\n",
    "\n",
    "import scod\n",
    "import torch\n",
    "import numpy as np\n",
    "from tqdm import trange\n",
    "from sklearn.datasets import make_moons\n",
    "\n",
    "from matplotlib import pyplot as plt"
   ]
  },
  {
   "cell_type": "code",
   "execution_count": 51,
   "metadata": {},
   "outputs": [],
   "source": [
    "class TwoMoonsDataset(torch.utils.data.Dataset):\n",
    "    \"\"\"\n",
    "    Dataset where targets only depend on one of the input dimensions\n",
    "    We want to ensure we capture uncertainty when deviating even in the insensitive direction\n",
    "    \"\"\"\n",
    "    def __init__(self, N=200, noise=0.2, split='train') -> None:\n",
    "        super().__init__()\n",
    "        if split=='train':\n",
    "            random_state = 1\n",
    "        elif split == 'val':\n",
    "            random_state = 2\n",
    "        else:\n",
    "            random_state = 3\n",
    "        X,y = make_moons(n_samples=N, shuffle=True, noise=noise, random_state=random_state)\n",
    "        self.X = torch.from_numpy(X).float() #+ 5*torch.ones(2)\n",
    "        self.Y = torch.from_numpy(y).float() \n",
    "\n",
    "        self.N = N\n",
    "\n",
    "    def __len__(self):\n",
    "        return self.N\n",
    "    \n",
    "    def __getitem__(self, idx):\n",
    "        return (self.X[idx,:], self.Y[idx])"
   ]
  },
  {
   "cell_type": "code",
   "execution_count": 52,
   "metadata": {},
   "outputs": [],
   "source": [
    "# DNN mapping 2d input to 1d distribution parameter\n",
    "model = torch.nn.Sequential(\n",
    "    torch.nn.Linear(2, 128),\n",
    "    torch.nn.ReLU(),\n",
    "    torch.nn.Linear(128, 64),\n",
    "    torch.nn.ReLU(),\n",
    "    torch.nn.Linear(64, 64),\n",
    "    torch.nn.ReLU(),\n",
    "    torch.nn.Linear(64, 2)\n",
    ")\n",
    "\n",
    "model[0].requires_grad = False\n",
    "\n",
    "# create function turning theta (the output of the network) into a distribution object\n",
    "dist_constructor = lambda theta: scod.distributions.Categorical(logits=theta)"
   ]
  },
  {
   "cell_type": "markdown",
   "metadata": {},
   "source": [
    "### model training"
   ]
  },
  {
   "cell_type": "code",
   "execution_count": 53,
   "metadata": {},
   "outputs": [
    {
     "name": "stderr",
     "output_type": "stream",
     "text": [
      "mean_loss=0.110726: 100%|██████████| 200/200 [00:06<00:00, 31.54it/s]\n"
     ]
    },
    {
     "data": {
      "text/plain": [
       "[<matplotlib.lines.Line2D at 0x7f9c0ebba668>]"
      ]
     },
     "execution_count": 53,
     "metadata": {},
     "output_type": "execute_result"
    },
    {
     "data": {
      "image/png": "[encoded data removed]",
      "text/plain": [
       "<Figure size 432x288 with 1 Axes>"
      ]
     },
     "metadata": {
      "needs_background": "light"
     },
     "output_type": "display_data"
    }
   ],
   "source": [
    "dataset = TwoMoonsDataset()\n",
    "train_dataloader = torch.utils.data.DataLoader(dataset, batch_size=10, shuffle=True)\n",
    "optimizer = torch.optim.Adam(model.parameters(), lr=1e-3)\n",
    "\n",
    "losses = []\n",
    "t = trange(200)\n",
    "\n",
    "for epoch in t:\n",
    "    epoch_loss = 0.\n",
    "    for (inputs, targets) in train_dataloader:\n",
    "        optimizer.zero_grad()\n",
    "        \n",
    "        outputs = model(inputs)\n",
    "        dist = dist_constructor(outputs)\n",
    "        loss = -dist.log_prob(targets)\n",
    "        mean_loss = loss.mean()\n",
    "\n",
    "        regularization = torch.sum(torch.stack([torch.norm(p)**2 for p in model.parameters()])) / 1e3\n",
    "\n",
    "        total_loss = mean_loss + regularization\n",
    "        total_loss.backward()\n",
    "\n",
    "        epoch_loss += total_loss\n",
    "        \n",
    "        optimizer.step()\n",
    "        \n",
    "    epoch_loss /= len(train_dataloader)\n",
    "    \n",
    "    t.set_description(\"mean_loss=%02f\"%epoch_loss.item())\n",
    "    losses.append(epoch_loss.item())\n",
    "\n",
    "plt.plot(losses)"
   ]
  },
  {
   "cell_type": "code",
   "execution_count": 54,
   "metadata": {},
   "outputs": [
    {
     "name": "stdout",
     "output_type": "stream",
     "text": [
      "<class 'scod.sketching.sketched_pca.SRFT_SinglePassPCA'>\n"
     ]
    }
   ],
   "source": [
    "unc_model = scod.SCOD(model, dist_constructor, args={\n",
    "    'num_eigs': 50,\n",
    "    'num_samples': 304,\n",
    "    'sketch_type': 'srft',\n",
    "})"
   ]
  },
  {
   "cell_type": "markdown",
   "metadata": {},
   "source": [
    "### process training dataset to compute posterior uncertainty"
   ]
  },
  {
   "cell_type": "code",
   "execution_count": 55,
   "metadata": {},
   "outputs": [
    {
     "name": "stderr",
     "output_type": "stream",
     "text": [
      "  3%|▎         | 6/200 [00:00<00:03, 56.96it/s]"
     ]
    },
    {
     "name": "stdout",
     "output_type": "stream",
     "text": [
      "computing basis\n",
      "using T = 304\n"
     ]
    },
    {
     "name": "stderr",
     "output_type": "stream",
     "text": [
      "100%|██████████| 200/200 [00:03<00:00, 51.52it/s]\n"
     ]
    }
   ],
   "source": [
    "unc_model.process_dataset(dataset)"
   ]
  },
  {
   "cell_type": "markdown",
   "metadata": {},
   "source": [
    "### use validation dataset to optimize prior variance"
   ]
  },
  {
   "cell_type": "code",
   "execution_count": 57,
   "metadata": {},
   "outputs": [
    {
     "name": "stderr",
     "output_type": "stream",
     "text": [
      "100%|██████████| 10/10 [00:08<00:00,  1.18it/s, eps=0.281]\n"
     ]
    }
   ],
   "source": [
    "val_dataset = TwoMoonsDataset(split='val')\n",
    "unc_model.optimize_prior_scale_by_nll(val_dataset, num_epochs=10)"
   ]
  },
  {
   "cell_type": "markdown",
   "metadata": {},
   "source": [
    "### compare SCOD's predictions to the original trained model"
   ]
  },
  {
   "cell_type": "code",
   "execution_count": 58,
   "metadata": {},
   "outputs": [
    {
     "name": "stderr",
     "output_type": "stream",
     "text": [
      "100%|██████████| 200/200 [00:03<00:00, 54.58it/s, batch_loss=0.0253, eps=0.281] \n"
     ]
    }
   ],
   "source": [
    "X1,X2 = np.meshgrid( np.linspace(-5.,5.,50), np.linspace(-5.,5.,50) )\n",
    "X = np.stack([X1,X2], axis=-1)\n",
    "xx_tensor = torch.from_numpy(X).view(-1,2).float()\n",
    "yhat = model(xx_tensor)\n",
    "yhat = torch.softmax( model(xx_tensor), -1)\n",
    "yhat = yhat[:,1].detach().cpu().numpy()\n",
    "\n",
    "dists, uncs = unc_model(xx_tensor)\n",
    "scod_yhat = np.array([ y.probs[1].detach().cpu().numpy() for y in dists])\n",
    "uncs = uncs.detach().cpu().numpy()"
   ]
  },
  {
   "cell_type": "code",
   "execution_count": 59,
   "metadata": {},
   "outputs": [
    {
     "data": {
      "text/plain": [
       "Text(0.5, 1.0, 'SCOD uncertainty')"
      ]
     },
     "execution_count": 59,
     "metadata": {},
     "output_type": "execute_result"
    },
    {
     "data": {
      "image/png": "[encoded data removed]",
      "text/plain": [
       "<Figure size 648x216 with 3 Axes>"
      ]
     },
     "metadata": {
      "needs_background": "light"
     },
     "output_type": "display_data"
    }
   ],
   "source": [
    "fig, axes = plt.subplots(1,3, figsize=[9,3])\n",
    "axes[0].contourf(X1,X2,yhat.reshape(X1.shape), levels=10, vmin=0., vmax=1.)\n",
    "axes[0].scatter(dataset.X[:,0], dataset.X[:,1], c=dataset.Y, vmin=0, vmax=1, edgecolors='k')\n",
    "axes[0].set_title('Original DNN prediction')\n",
    "axes[1].contourf(X1,X2,scod_yhat.reshape(X1.shape), levels=10, vmin=0., vmax=1.)\n",
    "axes[1].scatter(dataset.X[:,0], dataset.X[:,1], c=dataset.Y, vmin=0, vmax=1, edgecolors='k')\n",
    "axes[1].set_title('SCOD prediction')\n",
    "axes[2].contourf(X1,X2,uncs.reshape(X1.shape), extend=\"both\")\n",
    "axes[2].scatter(dataset.X[:,0], dataset.X[:,1], marker='x', facecolor='k', alpha=0.1)\n",
    "axes[2].set_title('SCOD uncertainty')\n"
   ]
  },
  {
   "cell_type": "code",
   "execution_count": null,
   "metadata": {},
   "outputs": [],
   "source": []
  }
 ],
 "metadata": {
  "interpreter": {
   "hash": "8991a0e6686edf75bf7792fc477dabdc9090e49c5875da64d25127225945e1c8"
  },
  "kernelspec": {
   "display_name": "Python 3.8.2 64-bit ('venv': venv)",
   "name": "python3"
  },
  "language_info": {
   "codemirror_mode": {
    "name": "ipython",
    "version": 3
   },
   "file_extension": ".py",
   "mimetype": "text/x-python",
   "name": "python",
   "nbconvert_exporter": "python",
   "pygments_lexer": "ipython3",
   "version": "3.6.9"
  },
  "orig_nbformat": 4
 },
 "nbformat": 4,
 "nbformat_minor": 2
}
