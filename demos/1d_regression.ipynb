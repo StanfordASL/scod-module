{
 "cells": [
  {
   "cell_type": "code",
   "execution_count": 1,
   "metadata": {},
   "outputs": [],
   "source": [
    "%load_ext autoreload\n",
    "%autoreload 2\n",
    "\n",
    "import scod\n",
    "import torch\n",
    "import numpy as np\n",
    "from tqdm import trange\n",
    "import seaborn as sns\n",
    "\n",
    "from matplotlib import pyplot as plt"
   ]
  },
  {
   "cell_type": "markdown",
   "metadata": {},
   "source": [
    "Create the dataset"
   ]
  },
  {
   "cell_type": "code",
   "execution_count": 2,
   "metadata": {},
   "outputs": [],
   "source": [
    "class OneDDataset(torch.utils.data.Dataset):\n",
    "    def __init__(self, N=100, fn=np.sin, split='train') -> None:\n",
    "        super().__init__()\n",
    "        if split == 'train':\n",
    "            np.random.seed(1001)\n",
    "        elif split == 'val':\n",
    "            np.random.seed(2001)\n",
    "        else:\n",
    "            np.random.seed(3001)\n",
    "        x = np.concatenate([-1.5 + np.random.rand(N//2), 0.5 + np.random.rand(N - N//2)])[:,None]\n",
    "        y = fn(((x+3)/2)**2)\n",
    "\n",
    "        self.X = torch.from_numpy(x).float()\n",
    "        self.Y = torch.from_numpy(y).float() \n",
    "\n",
    "        self.N = N\n",
    "\n",
    "    def __len__(self):\n",
    "        return self.N\n",
    "    \n",
    "    def __getitem__(self, idx):\n",
    "        return (self.X[idx,:], self.Y[idx,:])\n"
   ]
  },
  {
   "cell_type": "code",
   "execution_count": 3,
   "metadata": {},
   "outputs": [],
   "source": [
    "# DNN mapping 2d input to 1d distribution parameter \n",
    "relu_model = torch.nn.Sequential(\n",
    "    torch.nn.Linear(1, 64),\n",
    "    torch.nn.ReLU(),\n",
    "    torch.nn.Linear(64, 64),\n",
    "    torch.nn.ReLU(),\n",
    "    torch.nn.Linear(64, 64),\n",
    "    torch.nn.ReLU(),\n",
    "    torch.nn.Linear(64, 1)\n",
    ")\n",
    "\n",
    "# here, we interpret the output of the DNN as the mean of a Gaussian\n",
    "dist_constructor = lambda theta: scod.distributions.Normal(loc=theta, scale=0.01)"
   ]
  },
  {
   "cell_type": "code",
   "execution_count": 4,
   "metadata": {},
   "outputs": [],
   "source": [
    "tanh_model = torch.nn.Sequential(\n",
    "    torch.nn.Linear(1, 64),\n",
    "    torch.nn.Tanh(),\n",
    "    torch.nn.Linear(64, 64),\n",
    "    torch.nn.Tanh(),\n",
    "    torch.nn.Linear(64, 64),\n",
    "    torch.nn.Tanh(),\n",
    "    torch.nn.Linear(64, 1)\n",
    ")"
   ]
  },
  {
   "cell_type": "code",
   "execution_count": 5,
   "metadata": {},
   "outputs": [
    {
     "name": "stderr",
     "output_type": "stream",
     "text": [
      "mean_loss=-2.396771: 100%|██████████| 100/100 [00:00<00:00, 108.70it/s]\n",
      "mean_loss=-2.505509: 100%|██████████| 100/100 [00:00<00:00, 112.23it/s]\n"
     ]
    },
    {
     "data": {
      "image/png": "[encoded data removed]",
      "text/plain": [
       "<Figure size 432x288 with 1 Axes>"
      ]
     },
     "metadata": {
      "needs_background": "light"
     },
     "output_type": "display_data"
    }
   ],
   "source": [
    "for model in [relu_model, tanh_model]:\n",
    "    dataset = OneDDataset()\n",
    "    train_dataloader = torch.utils.data.DataLoader(dataset, batch_size=10, shuffle=True)\n",
    "    optimizer = torch.optim.Adam(model.parameters(), lr=1e-2)\n",
    "\n",
    "    losses = []\n",
    "    t = trange(100)\n",
    "\n",
    "    for epoch in t:\n",
    "        epoch_loss = 0.\n",
    "        for (inputs, targets) in train_dataloader:\n",
    "            optimizer.zero_grad()\n",
    "            \n",
    "            outputs = model(inputs)\n",
    "            dist = dist_constructor(outputs)\n",
    "            loss = -dist.log_prob(targets)\n",
    "\n",
    "            mean_loss = loss.mean()\n",
    "\n",
    "            mean_loss.backward()\n",
    "\n",
    "            epoch_loss += mean_loss\n",
    "            \n",
    "            optimizer.step()\n",
    "            \n",
    "        epoch_loss /= len(train_dataloader)\n",
    "        \n",
    "        t.set_description(\"mean_loss=%02f\"%epoch_loss.item())\n",
    "        losses.append(epoch_loss.item())\n",
    "\n",
    "    plt.plot(losses)"
   ]
  },
  {
   "cell_type": "code",
   "execution_count": 7,
   "metadata": {},
   "outputs": [
    {
     "data": {
      "text/plain": [
       "<matplotlib.legend.Legend at 0x7f0e48060070>"
      ]
     },
     "execution_count": 7,
     "metadata": {},
     "output_type": "execute_result"
    },
    {
     "data": {
      "image/png": "[encoded data removed]",
      "text/plain": [
       "<Figure size 432x288 with 1 Axes>"
      ]
     },
     "metadata": {
      "needs_background": "light"
     },
     "output_type": "display_data"
    }
   ],
   "source": [
    "X = np.linspace(-3.,3.,200)\n",
    "xx_tensor = torch.from_numpy(X).view(-1,1).float()\n",
    "yhat = relu_model(xx_tensor)\n",
    "yhat = yhat[:,0].detach().cpu().numpy()\n",
    "\n",
    "plt.plot(X,yhat, label=\"relu\")\n",
    "\n",
    "yhat = tanh_model(xx_tensor)\n",
    "yhat = yhat[:,0].detach().cpu().numpy()\n",
    "\n",
    "plt.plot(X,yhat, label=\"tanh\")\n",
    "plt.scatter(dataset.X[:,0], dataset.Y)\n",
    "\n",
    "plt.legend()"
   ]
  },
  {
   "cell_type": "code",
   "execution_count": 10,
   "metadata": {},
   "outputs": [
    {
     "name": "stdout",
     "output_type": "stream",
     "text": [
      "Weight space dimension: 8.513e+03\n"
     ]
    }
   ],
   "source": [
    "unc_model = scod.SCOD(model, dist_constructor, args={\n",
    "    'num_eigs': 100,\n",
    "    'num_samples': 604,\n",
    "    'sketch_type': 'srft',\n",
    "})"
   ]
  },
  {
   "cell_type": "code",
   "execution_count": 12,
   "metadata": {},
   "outputs": [
    {
     "name": "stdout",
     "output_type": "stream",
     "text": [
      "computing basis\n",
      "using T = 604\n"
     ]
    },
    {
     "data": {
      "application/vnd.jupyter.widget-view+json": {
       "model_id": "1477cbfce1b94ca3965205a9aeca88f5",
       "version_major": 2,
       "version_minor": 0
      },
      "text/plain": [
       "  0%|          | 0/100 [00:00<?, ?it/s]"
      ]
     },
     "metadata": {},
     "output_type": "display_data"
    }
   ],
   "source": [
    "unc_model.process_dataset(dataset)"
   ]
  },
  {
   "cell_type": "code",
   "execution_count": 13,
   "metadata": {},
   "outputs": [
    {
     "name": "stdout",
     "output_type": "stream",
     "text": [
      "Weight space dimension: 8.513e+03\n",
      "computing basis\n",
      "using T = 604\n"
     ]
    },
    {
     "data": {
      "application/vnd.jupyter.widget-view+json": {
       "model_id": "1cd225ab84cc4e95a185db7dec501dc0",
       "version_major": 2,
       "version_minor": 0
      },
      "text/plain": [
       "  0%|          | 0/100 [00:00<?, ?it/s]"
      ]
     },
     "metadata": {},
     "output_type": "display_data"
    }
   ],
   "source": [
    "relu_unc_model = scod.SCOD(relu_model, dist_constructor, args={\n",
    "    'num_eigs': 100,\n",
    "    'num_samples': 604,\n",
    "    'sketch_type': 'srft',\n",
    "})\n",
    "\n",
    "relu_unc_model.process_dataset(dataset)\n"
   ]
  },
  {
   "cell_type": "code",
   "execution_count": 14,
   "metadata": {},
   "outputs": [],
   "source": [
    "settings = [\n",
    "    {   \n",
    "        'name': 'Tanh Activations',\n",
    "        'model': unc_model,\n",
    "    },\n",
    "    {   \n",
    "        'name': 'ReLU Activations',\n",
    "        'model': relu_unc_model,\n",
    "    },\n",
    "]"
   ]
  },
  {
   "cell_type": "code",
   "execution_count": 15,
   "metadata": {},
   "outputs": [],
   "source": [
    "results = []\n",
    "for setting in settings:\n",
    "    scod_model = setting['model']\n",
    "    \n",
    "    dists, _ = scod_model(xx_tensor)\n",
    "    prior_dists, _ = scod_model(xx_tensor, use_prior=True)\n",
    "\n",
    "    vars = np.array( [torch.sqrt(dist.variance).sum().detach().cpu() for dist in dists] )\n",
    "    prior_vars = np.array( [torch.sqrt(dist.variance).sum().detach().cpu() for dist in prior_dists] )\n",
    "\n",
    "    result = {\n",
    "        'name': setting['name'],\n",
    "        'vars': vars.reshape(X.shape),\n",
    "        'prior_vars': prior_vars.reshape(X.shape)\n",
    "    }\n",
    "    \n",
    "    results.append(result)"
   ]
  },
  {
   "cell_type": "code",
   "execution_count": 16,
   "metadata": {},
   "outputs": [
    {
     "data": {
      "image/png": "[encoded data removed]",
      "text/plain": [
       "<Figure size 432x432 with 4 Axes>"
      ]
     },
     "metadata": {
      "needs_background": "light"
     },
     "output_type": "display_data"
    }
   ],
   "source": [
    "fig, axes = plt.subplots(len(results), 2, figsize=[6,6])\n",
    "\n",
    "draw_y = True\n",
    "\n",
    "for i, result in enumerate(results):\n",
    "    std = np.sqrt(result['prior_vars'])\n",
    "    axes[i,0].fill_between(X, draw_y*yhat + 1.92*std, draw_y*yhat - 1.92*std, alpha=0.2)\n",
    "    axes[i,0].plot(X, draw_y*yhat)\n",
    "    # axes[i,0].scatter(dataset.X[:,0], draw_y*dataset.Y)\n",
    "    std = np.sqrt(result['vars'])\n",
    "    axes[i,1].fill_between(X, draw_y*yhat + 1.92*std, draw_y*yhat - 1.92*std, alpha=0.2)\n",
    "    axes[i,1].plot(X, draw_y*yhat)\n",
    "    axes[i,1].scatter(dataset.X[:,0], draw_y*dataset.Y, marker='+', alpha=0.5, color='red')\n",
    "    \n",
    "    axes[i,0].set_ylabel(result['name'])\n",
    "\n",
    "axes[0,0].set_title('Prior')\n",
    "axes[0,1].set_title('Posterior')\n",
    "\n",
    "plt.tight_layout()\n",
    "plt.savefig(\"qualitative_1d.pdf\")"
   ]
  }
 ],
 "metadata": {
  "interpreter": {
   "hash": "509072f5507458a8073d26c70e710abce2df25c1e0fb63e0502f973ad11de52d"
  },
  "kernelspec": {
   "display_name": "Python 3.8.0 ('venv': venv)",
   "language": "python",
   "name": "python3"
  },
  "language_info": {
   "codemirror_mode": {
    "name": "ipython",
    "version": 3
   },
   "file_extension": ".py",
   "mimetype": "text/x-python",
   "name": "python",
   "nbconvert_exporter": "python",
   "pygments_lexer": "ipython3",
   "version": "3.8.0"
  },
  "orig_nbformat": 4
 },
 "nbformat": 4,
 "nbformat_minor": 2
}
