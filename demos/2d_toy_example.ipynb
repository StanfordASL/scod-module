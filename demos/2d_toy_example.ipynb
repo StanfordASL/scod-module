{
 "cells": [
  {
   "cell_type": "markdown",
   "metadata": {},
   "source": [
    "# Demo of SCOD with a simple 2D dataset"
   ]
  },
  {
   "cell_type": "code",
   "execution_count": 1,
   "metadata": {},
   "outputs": [],
   "source": [
    "%load_ext autoreload\n",
    "%autoreload 2\n",
    "\n",
    "import scod\n",
    "import torch\n",
    "import matplotlib\n",
    "import numpy as np\n",
    "from tqdm import trange\n",
    "\n",
    "from matplotlib import pyplot as plt"
   ]
  },
  {
   "cell_type": "markdown",
   "metadata": {},
   "source": [
    "First, define the dataset"
   ]
  },
  {
   "cell_type": "code",
   "execution_count": 2,
   "metadata": {},
   "outputs": [],
   "source": [
    "class TwoDDataset(torch.utils.data.Dataset):\n",
    "    \"\"\"\n",
    "    Dataset where targets only depend on one of the input dimensions\n",
    "    We want to ensure we capture uncertainty when deviating even in the insensitive direction\n",
    "    \"\"\"\n",
    "    def __init__(self, N=100, fn=np.sin, split='train') -> None:\n",
    "        super().__init__()\n",
    "        if split == 'train':\n",
    "            np.random.seed(1001)\n",
    "        elif split == 'val':\n",
    "            np.random.seed(2001)\n",
    "        else:\n",
    "            np.random.seed(3001)\n",
    "        x1 = np.concatenate([-1.5 + np.random.rand(N//2), 0.5 + np.random.rand(N - N//2)])\n",
    "        x2 = -1 + 2*np.random.rand(N)\n",
    "        x = np.stack([x1,x2],axis=-1)\n",
    "        y = fn(x[:,1])\n",
    "        self.X = torch.from_numpy(x).float()\n",
    "        self.Y = torch.from_numpy(y).float() \n",
    "\n",
    "        self.N = N\n",
    "\n",
    "    def __len__(self):\n",
    "        return self.N\n",
    "    \n",
    "    def __getitem__(self, idx):\n",
    "        return (self.X[idx,:], self.Y[idx,None])"
   ]
  },
  {
   "cell_type": "markdown",
   "metadata": {},
   "source": [
    "Next, we create a model (simple MLP), and train it to fit this data"
   ]
  },
  {
   "cell_type": "code",
   "execution_count": 3,
   "metadata": {},
   "outputs": [],
   "source": [
    "# DNN mapping 2d input to 1d distribution parameter\n",
    "model = torch.nn.Sequential(\n",
    "    torch.nn.Linear(2, 64),\n",
    "    torch.nn.Tanh(),\n",
    "    torch.nn.Linear(64, 64),\n",
    "    torch.nn.Tanh(),\n",
    "    torch.nn.Linear(64, 64),\n",
    "    torch.nn.Tanh(),\n",
    "    torch.nn.Linear(64, 1)\n",
    ")\n",
    "\n",
    "# here, we interpret the output of the DNN as the mean of a Gaussian\n",
    "dist_constructor = lambda theta: scod.distributions.Normal(loc=theta, scale=1.)"
   ]
  },
  {
   "cell_type": "code",
   "execution_count": 4,
   "metadata": {},
   "outputs": [
    {
     "name": "stderr",
     "output_type": "stream",
     "text": [
      "mean_loss=0.918968: 100%|██████████| 50/50 [00:00<00:00, 169.98it/s]\n"
     ]
    },
    {
     "data": {
      "text/plain": [
       "[<matplotlib.lines.Line2D at 0x134074340>]"
      ]
     },
     "execution_count": 4,
     "metadata": {},
     "output_type": "execute_result"
    },
    {
     "data": {
      "image/png": "[encoded data removed]",
      "text/plain": [
       "<Figure size 432x288 with 1 Axes>"
      ]
     },
     "metadata": {
      "needs_background": "light"
     },
     "output_type": "display_data"
    }
   ],
   "source": [
    "dataset = TwoDDataset()\n",
    "train_dataloader = torch.utils.data.DataLoader(dataset, batch_size=10, shuffle=True)\n",
    "optimizer = torch.optim.Adam(model.parameters(), lr=1e-2)\n",
    "\n",
    "losses = []\n",
    "t = trange(50)\n",
    "\n",
    "for epoch in t:\n",
    "    epoch_loss = 0.\n",
    "    for (inputs, targets) in train_dataloader:\n",
    "        optimizer.zero_grad()\n",
    "        \n",
    "        outputs = model(inputs)\n",
    "        dist = dist_constructor(outputs)\n",
    "        loss = -dist.log_prob(targets)\n",
    "\n",
    "        mean_loss = loss.mean()\n",
    "\n",
    "        mean_loss.backward()\n",
    "\n",
    "        epoch_loss += mean_loss\n",
    "        \n",
    "        optimizer.step()\n",
    "        \n",
    "    epoch_loss /= len(train_dataloader)\n",
    "    \n",
    "    t.set_description(\"mean_loss=%02f\"%epoch_loss.item())\n",
    "    losses.append(epoch_loss.item())\n",
    "\n",
    "plt.plot(losses)"
   ]
  },
  {
   "cell_type": "markdown",
   "metadata": {},
   "source": [
    "Visualize the simple trained DNN"
   ]
  },
  {
   "cell_type": "code",
   "execution_count": 5,
   "metadata": {},
   "outputs": [
    {
     "data": {
      "text/plain": [
       "<matplotlib.collections.PathCollection at 0x13416eaf0>"
      ]
     },
     "execution_count": 5,
     "metadata": {},
     "output_type": "execute_result"
    },
    {
     "data": {
      "image/png": "[encoded data removed]",
      "text/plain": [
       "<Figure size 432x288 with 1 Axes>"
      ]
     },
     "metadata": {
      "needs_background": "light"
     },
     "output_type": "display_data"
    }
   ],
   "source": [
    "X1,X2 = np.meshgrid( np.linspace(-3.,3.,50), np.linspace(-3.,3.,50) )\n",
    "X = np.stack([X1,X2], axis=-1)\n",
    "xx_tensor = torch.from_numpy(X).view(-1,2).float()\n",
    "yhat = model(xx_tensor)\n",
    "yhat = yhat[:,0].detach().cpu().numpy()\n",
    "\n",
    "plt.contourf(X1,X2,yhat.reshape(X1.shape), levels=10, vmin=-2., vmax=2.)\n",
    "plt.scatter(dataset.X[:,0], dataset.X[:,1], c=dataset.Y, vmin=-2, vmax=2, edgecolors='k')"
   ]
  },
  {
   "cell_type": "markdown",
   "metadata": {},
   "source": [
    "### Applying SCOD\n",
    "Now, we apply SCOD to the network to add uncertainty estimation"
   ]
  },
  {
   "cell_type": "code",
   "execution_count": 17,
   "metadata": {},
   "outputs": [
    {
     "name": "stdout",
     "output_type": "stream",
     "text": [
      "<class 'scod.sketching.sketched_pca.IncrementalPCA'>\n"
     ]
    }
   ],
   "source": [
    "unc_model = scod.SCOD(model, dist_constructor, args={\n",
    "    'num_eigs': 50,\n",
    "    'num_samples': 304,\n",
    "    'sketch_type': 'iPCA'\n",
    "})"
   ]
  },
  {
   "cell_type": "code",
   "execution_count": 18,
   "metadata": {},
   "outputs": [
    {
     "name": "stdout",
     "output_type": "stream",
     "text": [
      "computing basis\n"
     ]
    },
    {
     "name": "stderr",
     "output_type": "stream",
     "text": [
      "  2%|▏         | 2/100 [00:00<00:07, 13.02it/s]"
     ]
    },
    {
     "name": "stdout",
     "output_type": "stream",
     "text": [
      "torch.Size([8577, 1])\n",
      "torch.Size([8577, 1])\n",
      "torch.Size([8577, 1])\n",
      "torch.Size([8577, 1])\n"
     ]
    },
    {
     "name": "stderr",
     "output_type": "stream",
     "text": [
      "  8%|▊         | 8/100 [00:00<00:04, 22.29it/s]"
     ]
    },
    {
     "name": "stdout",
     "output_type": "stream",
     "text": [
      "torch.Size([8577, 1])\n",
      "torch.Size([8577, 1])\n",
      "torch.Size([8577, 1])\n",
      "torch.Size([8577, 1])\n",
      "torch.Size([8577, 1])\n",
      "torch.Size([8577, 1])\n"
     ]
    },
    {
     "name": "stderr",
     "output_type": "stream",
     "text": [
      " 14%|█▍        | 14/100 [00:00<00:03, 24.89it/s]"
     ]
    },
    {
     "name": "stdout",
     "output_type": "stream",
     "text": [
      "torch.Size([8577, 1])\n",
      "torch.Size([8577, 1])\n",
      "torch.Size([8577, 1])\n",
      "torch.Size([8577, 1])\n",
      "torch.Size([8577, 1])\n",
      "torch.Size([8577, 1])\n"
     ]
    },
    {
     "name": "stderr",
     "output_type": "stream",
     "text": [
      " 20%|██        | 20/100 [00:00<00:03, 26.15it/s]"
     ]
    },
    {
     "name": "stdout",
     "output_type": "stream",
     "text": [
      "torch.Size([8577, 1])\n",
      "torch.Size([8577, 1])\n",
      "torch.Size([8577, 1])\n",
      "torch.Size([8577, 1])\n",
      "torch.Size([8577, 1])\n",
      "torch.Size([8577, 1])\n"
     ]
    },
    {
     "name": "stderr",
     "output_type": "stream",
     "text": [
      " 26%|██▌       | 26/100 [00:01<00:02, 26.85it/s]"
     ]
    },
    {
     "name": "stdout",
     "output_type": "stream",
     "text": [
      "torch.Size([8577, 1])\n",
      "torch.Size([8577, 1])\n",
      "torch.Size([8577, 1])\n",
      "torch.Size([8577, 1])\n",
      "torch.Size([8577, 1])\n",
      "torch.Size([8577, 1])\n"
     ]
    },
    {
     "name": "stderr",
     "output_type": "stream",
     "text": [
      " 32%|███▏      | 32/100 [00:01<00:02, 27.23it/s]"
     ]
    },
    {
     "name": "stdout",
     "output_type": "stream",
     "text": [
      "torch.Size([8577, 1])\n",
      "torch.Size([8577, 1])\n",
      "torch.Size([8577, 1])\n",
      "torch.Size([8577, 1])\n",
      "torch.Size([8577, 1])\n",
      "torch.Size([8577, 1])\n"
     ]
    },
    {
     "name": "stderr",
     "output_type": "stream",
     "text": [
      " 38%|███▊      | 38/100 [00:01<00:02, 27.68it/s]"
     ]
    },
    {
     "name": "stdout",
     "output_type": "stream",
     "text": [
      "torch.Size([8577, 1])\n",
      "torch.Size([8577, 1])\n",
      "torch.Size([8577, 1])\n",
      "torch.Size([8577, 1])\n",
      "torch.Size([8577, 1])\n",
      "torch.Size([8577, 1])\n"
     ]
    },
    {
     "name": "stderr",
     "output_type": "stream",
     "text": [
      " 44%|████▍     | 44/100 [00:01<00:02, 27.46it/s]"
     ]
    },
    {
     "name": "stdout",
     "output_type": "stream",
     "text": [
      "torch.Size([8577, 1])\n",
      "torch.Size([8577, 1])\n",
      "torch.Size([8577, 1])\n",
      "torch.Size([8577, 1])\n",
      "torch.Size([8577, 1])\n",
      "torch.Size([8577, 1])\n"
     ]
    },
    {
     "name": "stderr",
     "output_type": "stream",
     "text": [
      " 50%|█████     | 50/100 [00:01<00:01, 27.54it/s]"
     ]
    },
    {
     "name": "stdout",
     "output_type": "stream",
     "text": [
      "torch.Size([8577, 1])\n",
      "torch.Size([8577, 1])\n",
      "torch.Size([8577, 1])\n",
      "torch.Size([8577, 1])\n",
      "torch.Size([8577, 1])\n",
      "torch.Size([8577, 1])\n"
     ]
    },
    {
     "name": "stderr",
     "output_type": "stream",
     "text": [
      " 56%|█████▌    | 56/100 [00:02<00:01, 27.54it/s]"
     ]
    },
    {
     "name": "stdout",
     "output_type": "stream",
     "text": [
      "torch.Size([8577, 1])\n",
      "torch.Size([8577, 1])\n",
      "torch.Size([8577, 1])\n",
      "torch.Size([8577, 1])\n",
      "torch.Size([8577, 1])\n",
      "torch.Size([8577, 1])\n"
     ]
    },
    {
     "name": "stderr",
     "output_type": "stream",
     "text": [
      " 62%|██████▏   | 62/100 [00:02<00:01, 27.63it/s]"
     ]
    },
    {
     "name": "stdout",
     "output_type": "stream",
     "text": [
      "torch.Size([8577, 1])\n",
      "torch.Size([8577, 1])\n",
      "torch.Size([8577, 1])\n",
      "torch.Size([8577, 1])\n",
      "torch.Size([8577, 1])\n",
      "torch.Size([8577, 1])\n"
     ]
    },
    {
     "name": "stderr",
     "output_type": "stream",
     "text": [
      " 68%|██████▊   | 68/100 [00:02<00:01, 27.53it/s]"
     ]
    },
    {
     "name": "stdout",
     "output_type": "stream",
     "text": [
      "torch.Size([8577, 1])\n",
      "torch.Size([8577, 1])\n",
      "torch.Size([8577, 1])\n",
      "torch.Size([8577, 1])\n",
      "torch.Size([8577, 1])\n",
      "torch.Size([8577, 1])\n"
     ]
    },
    {
     "name": "stderr",
     "output_type": "stream",
     "text": [
      " 74%|███████▍  | 74/100 [00:02<00:00, 26.89it/s]"
     ]
    },
    {
     "name": "stdout",
     "output_type": "stream",
     "text": [
      "torch.Size([8577, 1])\n",
      "torch.Size([8577, 1])\n",
      "torch.Size([8577, 1])\n",
      "torch.Size([8577, 1])\n",
      "torch.Size([8577, 1])\n",
      "torch.Size([8577, 1])\n"
     ]
    },
    {
     "name": "stderr",
     "output_type": "stream",
     "text": [
      " 80%|████████  | 80/100 [00:03<00:00, 27.04it/s]"
     ]
    },
    {
     "name": "stdout",
     "output_type": "stream",
     "text": [
      "torch.Size([8577, 1])\n",
      "torch.Size([8577, 1])\n",
      "torch.Size([8577, 1])\n",
      "torch.Size([8577, 1])\n",
      "torch.Size([8577, 1])\n",
      "torch.Size([8577, 1])\n"
     ]
    },
    {
     "name": "stderr",
     "output_type": "stream",
     "text": [
      " 86%|████████▌ | 86/100 [00:03<00:00, 27.19it/s]"
     ]
    },
    {
     "name": "stdout",
     "output_type": "stream",
     "text": [
      "torch.Size([8577, 1])\n",
      "torch.Size([8577, 1])\n",
      "torch.Size([8577, 1])\n",
      "torch.Size([8577, 1])\n",
      "torch.Size([8577, 1])\n",
      "torch.Size([8577, 1])\n"
     ]
    },
    {
     "name": "stderr",
     "output_type": "stream",
     "text": [
      " 92%|█████████▏| 92/100 [00:03<00:00, 27.20it/s]"
     ]
    },
    {
     "name": "stdout",
     "output_type": "stream",
     "text": [
      "torch.Size([8577, 1])\n",
      "torch.Size([8577, 1])\n",
      "torch.Size([8577, 1])\n",
      "torch.Size([8577, 1])\n",
      "torch.Size([8577, 1])\n",
      "torch.Size([8577, 1])\n"
     ]
    },
    {
     "name": "stderr",
     "output_type": "stream",
     "text": [
      " 98%|█████████▊| 98/100 [00:03<00:00, 27.34it/s]"
     ]
    },
    {
     "name": "stdout",
     "output_type": "stream",
     "text": [
      "torch.Size([8577, 1])\n",
      "torch.Size([8577, 1])\n",
      "torch.Size([8577, 1])\n",
      "torch.Size([8577, 1])\n",
      "torch.Size([8577, 1])\n",
      "torch.Size([8577, 1])\n"
     ]
    },
    {
     "name": "stderr",
     "output_type": "stream",
     "text": [
      "100%|██████████| 100/100 [00:03<00:00, 26.67it/s]\n"
     ]
    }
   ],
   "source": [
    "unc_model.process_dataset(dataset)"
   ]
  },
  {
   "cell_type": "code",
   "execution_count": 19,
   "metadata": {},
   "outputs": [
    {
     "name": "stderr",
     "output_type": "stream",
     "text": [
      "100%|██████████| 10/10 [00:00<00:00, 191.39it/s]"
     ]
    },
    {
     "name": "stdout",
     "output_type": "stream",
     "text": [
      "torch.Size([10, 1])\n",
      "torch.Size([10, 1])\n",
      "torch.Size([10, 1])\n",
      "torch.Size([10, 1])\n",
      "torch.Size([10, 1])\n",
      "torch.Size([10, 1])\n",
      "torch.Size([10, 1])\n",
      "torch.Size([10, 1])\n",
      "torch.Size([10, 1])\n",
      "torch.Size([10, 1])\n"
     ]
    },
    {
     "name": "stderr",
     "output_type": "stream",
     "text": [
      "\n"
     ]
    }
   ],
   "source": [
    "val_dataset = TwoDDataset(split='val')\n",
    "unc_model.calibrate(val_dataset, 0.95)"
   ]
  },
  {
   "cell_type": "code",
   "execution_count": 20,
   "metadata": {},
   "outputs": [
    {
     "name": "stdout",
     "output_type": "stream",
     "text": [
      "torch.Size([2500, 1])\n"
     ]
    },
    {
     "data": {
      "text/plain": [
       "<matplotlib.collections.PathCollection at 0x1347af4f0>"
      ]
     },
     "execution_count": 20,
     "metadata": {},
     "output_type": "execute_result"
    },
    {
     "data": {
      "image/png": "[encoded data removed]",
      "text/plain": [
       "<Figure size 432x288 with 2 Axes>"
      ]
     },
     "metadata": {
      "needs_background": "light"
     },
     "output_type": "display_data"
    }
   ],
   "source": [
    "yhat, sig = unc_model(xx_tensor)\n",
    "yhat = yhat[:,0].detach().cpu().numpy()\n",
    "sig = sig.detach().cpu().numpy()\n",
    "\n",
    "fig, axes = plt.subplots(1,2)\n",
    "axes[0].contourf(X1,X2,yhat.reshape(X1.shape), levels=10, vmin=-2., vmax=2.)\n",
    "axes[0].scatter(dataset.X[:,0], dataset.X[:,1], c=dataset.Y, vmin=-2, vmax=2, edgecolors='k')\n",
    "axes[1].contourf(X1,X2,sig.reshape(X1.shape)) #, levels=[0., 0.25, 0.5, 0.75, 1., 1.25, 1.5], extend=\"both\")\n",
    "axes[1].scatter(dataset.X[:,0], dataset.X[:,1], c=dataset.Y, vmin=-2, vmax=2, edgecolors='k')"
   ]
  },
  {
   "cell_type": "code",
   "execution_count": null,
   "metadata": {},
   "outputs": [],
   "source": []
  }
 ],
 "metadata": {
  "interpreter": {
   "hash": "8991a0e6686edf75bf7792fc477dabdc9090e49c5875da64d25127225945e1c8"
  },
  "kernelspec": {
   "display_name": "Python 3.8.2 64-bit ('venv': venv)",
   "name": "python3"
  },
  "language_info": {
   "codemirror_mode": {
    "name": "ipython",
    "version": 3
   },
   "file_extension": ".py",
   "mimetype": "text/x-python",
   "name": "python",
   "nbconvert_exporter": "python",
   "pygments_lexer": "ipython3",
   "version": "3.8.2"
  },
  "orig_nbformat": 4
 },
 "nbformat": 4,
 "nbformat_minor": 2
}
